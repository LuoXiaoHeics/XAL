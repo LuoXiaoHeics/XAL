{
 "cells": [
  {
   "cell_type": "code",
   "execution_count": 1,
   "id": "8334fbd5-cded-4a10-a283-59a33fe231bc",
   "metadata": {
    "tags": []
   },
   "outputs": [],
   "source": [
    "import openai\n",
    "import os\n",
    "import logging\n",
    "openai.api_key=\"your api key\"\n",
    "request_url=\"https://api.openai.com/v1/chat/completions\"\n",
    "api_key=\"your api key\"\n",
    "max_requests_per_minute=60 * 0.5\n",
    "max_tokens_per_minute=60000 * 0.5\n",
    "token_encoding_name=\"cl100k_base\"\n",
    "max_attempts=5\n",
    "logging_level=logging.INFO\n",
    "from baseline_helper import *\n",
    "import pandas as pd"
   ]
  },
  {
   "cell_type": "code",
   "execution_count": 4,
   "id": "6ad15864",
   "metadata": {},
   "outputs": [],
   "source": [
    "data_file = 'train_reasons.csv'\n",
    "\n",
    "data = pd.read_csv(data_file)\n",
    "\n",
    "text = data['review']\n",
    "category = data['category']\n",
    "\n",
    "sentiment = ['negative','positive','neutral']\n",
    "num = ['a','b','c']\n",
    "infos = []\n",
    "\n",
    "id = 0\n",
    "for j,d in enumerate(zip(text,category)):\n",
    "    for i in range(3):\n",
    "        u = sentiment[i]\n",
    "        inp = f'Review: \\'{d[0]}\\' \\n  The sentiment polarity of the review to the aspect {d[1]} is {u}, explain the reason within 50 words'\n",
    "        infos.append((str(id)+'_'+num[i],inp,0.5))\n",
    "    id+=1\n"
   ]
  },
  {
   "cell_type": "code",
   "execution_count": 5,
   "id": "9ee57c9c-c62e-41af-a1fe-0a6706f5609f",
   "metadata": {},
   "outputs": [
    {
     "name": "stdout",
     "output_type": "stream",
     "text": [
      "Successfully Write to /Users/luoyun/Documents/chat/MAMS/MAMS_train_query.json\n"
     ]
    }
   ],
   "source": [
    "import os\n",
    "contents=[]\n",
    "pred_infos=[]\n",
    "temperature = []\n",
    "for u in infos:\n",
    "    contents.append(u[1])\n",
    "    pred_infos.append(u[0])\n",
    "    temperature.append(u[2])\n",
    "\n",
    "output_request_json=os.path.join('/Users/luoyun/Documents/chat/MAMS','MAMS_train_query.json')\n",
    "generate_message_json(pred_infos, contents,temperature,output_request_path=output_request_json)"
   ]
  },
  {
   "cell_type": "code",
   "execution_count": null,
   "id": "9dbb4530",
   "metadata": {},
   "outputs": [],
   "source": [
    "import openai\n",
    "import os\n",
    "import logging\n",
    "\n",
    "openai.api_key=\"your api key\"\n",
    "request_url=\"https://api.openai.com/v1/chat/completions\"\n",
    "api_key=\"your api key\"\n",
    "max_requests_per_minute=60 * 0.5\n",
    "max_tokens_per_minute=60000 * 0.5\n",
    "token_encoding_name=\"cl100k_base\"\n",
    "max_attempts=5\n",
    "logging_level=logging.INFO\n",
    "from baseline_helper import *\n",
    "import pandas as pd\n",
    "\n",
    "\n",
    "output_request_json='MAMS_train_query.json'\n",
    "\n",
    "run_multithread_gpt(output_request_json,'MAMS_train_query_results.json')"
   ]
  }
 ],
 "metadata": {
  "kernelspec": {
   "display_name": "cdc",
   "language": "python",
   "name": "python3"
  },
  "language_info": {
   "codemirror_mode": {
    "name": "ipython",
    "version": 3
   },
   "file_extension": ".py",
   "mimetype": "text/x-python",
   "name": "python",
   "nbconvert_exporter": "python",
   "pygments_lexer": "ipython3",
   "version": "3.8.8"
  }
 },
 "nbformat": 4,
 "nbformat_minor": 5
}
